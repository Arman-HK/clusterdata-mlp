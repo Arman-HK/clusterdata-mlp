{
 "cells": [
  {
   "cell_type": "markdown",
   "id": "ff41fc59",
   "metadata": {},
   "source": [
    "MLPRegressor"
   ]
  },
  {
   "cell_type": "markdown",
   "id": "612d7719",
   "metadata": {},
   "source": [
    "14-11-2022"
   ]
  },
  {
   "cell_type": "markdown",
   "id": "8b88166b",
   "metadata": {},
   "source": [
    "Data loading"
   ]
  },
  {
   "cell_type": "code",
   "execution_count": 39,
   "id": "aa84111c",
   "metadata": {},
   "outputs": [
    {
     "name": "stdout",
     "output_type": "stream",
     "text": [
      "0.01   20662.0\n",
      "0.0253444780071999   4874.2\n"
     ]
    }
   ],
   "source": [
    "import pandas as pd\n",
    "import numpy\n",
    "df  = pd.read_csv(\"D:\\\\00Research\\\\00Fog\\\\008Arman\\\\mcr-rt\\\\dataset-mcr-rt-180000.csv\")\n",
    "dataset = df.values\n",
    "#print('Total rows:', df.shape[0]) #550892\n",
    "X = dataset[:, 6] # rt column\n",
    "print(numpy.min(X),\" \",numpy.max(X))\n",
    "Y = dataset[:, 5] # mcr column\n",
    "print(numpy.min(Y),\" \",numpy.max(Y))"
   ]
  },
  {
   "cell_type": "markdown",
   "id": "c3ca513d",
   "metadata": {},
   "source": [
    "Correlation calc."
   ]
  },
  {
   "cell_type": "code",
   "execution_count": 40,
   "id": "2cdd06ec",
   "metadata": {},
   "outputs": [
    {
     "name": "stdout",
     "output_type": "stream",
     "text": [
      "Pearsons correlation: 0.684\n",
      "\n"
     ]
    }
   ],
   "source": [
    "from scipy.stats import pearsonr\n",
    "\n",
    "corr, _ = pearsonr(X, Y)\n",
    "print('Pearsons correlation: %.3f' % corr)\n",
    "print()"
   ]
  },
  {
   "cell_type": "markdown",
   "id": "121d0d10",
   "metadata": {},
   "source": [
    "Split - Model - Fit - Predict"
   ]
  },
  {
   "cell_type": "code",
   "execution_count": 41,
   "id": "7d3b11dc",
   "metadata": {},
   "outputs": [
    {
     "data": {
      "text/plain": [
       "['D:\\\\00Research\\\\00Fog\\\\008Arman\\\\mcr-rt\\\\mlp.joblib']"
      ]
     },
     "execution_count": 41,
     "metadata": {},
     "output_type": "execute_result"
    }
   ],
   "source": [
    "#Multi Layer Perceptron Neural Network\n",
    "from sklearn.neural_network import MLPRegressor\n",
    "from sklearn.datasets import make_regression\n",
    "from sklearn.model_selection import train_test_split\n",
    "from sklearn.preprocessing import StandardScaler\n",
    "\n",
    "#X = StandardScaler().fit_transform(X)\n",
    "# reshaping the X-factor from 1D to 2D\n",
    "X = X.reshape(-1, 1)\n",
    "#Y = Y.reshape(-1, 1)\n",
    "# splitting the data to train and test sets\n",
    "X_train, X_test, Y_train, Y_test = train_test_split(X, Y, random_state=1)\n",
    "# neural network configuration\n",
    "model = MLPRegressor(solver=\"adam\", alpha=0.49, tol=2.8284271247461903, activation=\"tanh\",\n",
    "                           learning_rate=\"adaptive\",\n",
    "                           max_iter=100000)\n",
    "model.fit(X_train, Y_train)\n",
    "# performing prediction on the test set and storing the predicted cpu usage in Y_predict\n",
    "Y_predict = model.predict(X_test)\n",
    "\n",
    "from joblib import dump, load, numpy_pickle\n",
    "import os\n",
    "\n",
    "dump(model, os.path.join(\"D:\\\\00Research\\\\00Fog\\\\008Arman\\\\mcr-rt\\\\\", \"mlp.joblib\"))"
   ]
  },
  {
   "cell_type": "markdown",
   "id": "c65c9d34",
   "metadata": {},
   "source": [
    "Plot"
   ]
  },
  {
   "cell_type": "code",
   "execution_count": 42,
   "id": "52751972",
   "metadata": {},
   "outputs": [
    {
     "data": {
      "image/png": "[encoded data removed]",
      "text/plain": [
       "<Figure size 432x288 with 1 Axes>"
      ]
     },
     "metadata": {
      "needs_background": "light"
     },
     "output_type": "display_data"
    }
   ],
   "source": [
    "import matplotlib.pyplot as plt\n",
    "plt.scatter(x=X_test, y=Y_test, color=\"magenta\")\n",
    "plt.plot(X_test, Y_predict, color=\"blue\", linewidth=3)  \n",
    "plt.title('Comparison between actual and predicted')\n",
    "plt.ylabel('', fontsize=18)\n",
    "plt.xlabel('', fontsize=18)\n",
    "#plt.legend('Prediction')\n",
    "plt.show()"
   ]
  },
  {
   "cell_type": "markdown",
   "id": "8c073326",
   "metadata": {},
   "source": [
    "Scatter"
   ]
  },
  {
   "cell_type": "code",
   "execution_count": 43,
   "id": "2b8e6f92",
   "metadata": {},
   "outputs": [
    {
     "data": {
      "image/png": "[encoded data removed]",
      "text/plain": [
       "<Figure size 432x288 with 1 Axes>"
      ]
     },
     "metadata": {
      "needs_background": "light"
     },
     "output_type": "display_data"
    }
   ],
   "source": [
    "plt.scatter(x=Y_test, y=Y_predict)\n",
    "plt.title('Comparison between actual and predicted')\n",
    "plt.ylabel('', fontsize=18)\n",
    "plt.xlabel('', fontsize=18)\n",
    "plt.show()"
   ]
  },
  {
   "cell_type": "markdown",
   "id": "1737a5aa",
   "metadata": {},
   "source": [
    "Absolute Error"
   ]
  },
  {
   "cell_type": "code",
   "execution_count": 44,
   "id": "b2e5dde0",
   "metadata": {},
   "outputs": [
    {
     "name": "stdout",
     "output_type": "stream",
     "text": [
      "Accuracy is:  15.5899\n",
      "Coefficient of determination: 0.19\n"
     ]
    }
   ],
   "source": [
    "from sklearn.metrics import mean_squared_error, mean_absolute_error, r2_score\n",
    "#print(mean_squared_error(Y_test, Y_predict))\n",
    "print(\"Accuracy is: \",numpy.round(mean_absolute_error(Y_test, Y_predict),4))\n",
    "print('Coefficient of determination: %.2f' % r2_score(Y_test,Y_predict))"
   ]
  },
  {
   "cell_type": "code",
   "execution_count": 45,
   "id": "af7bff10",
   "metadata": {},
   "outputs": [
    {
     "data": {
      "image/png": "[encoded data removed]",
      "text/plain": [
       "<Figure size 432x288 with 1 Axes>"
      ]
     },
     "metadata": {
      "needs_background": "light"
     },
     "output_type": "display_data"
    }
   ],
   "source": [
    "plt.plot(Y_test, label='actual')  # actual plot\n",
    "plt.plot(Y_predict, label='pred')  # predicted plot\n",
    "plt.title('Comparison between actual and predicted')\n",
    "plt.ylabel('', fontsize=18)\n",
    "plt.xlabel('', fontsize=18)\n",
    "plt.legend()\n",
    "plt.show()"
   ]
  }
 ],
 "metadata": {
  "kernelspec": {
   "display_name": "Python 3.9.1 64-bit",
   "language": "python",
   "name": "python3"
  },
  "language_info": {
   "codemirror_mode": {
    "name": "ipython",
    "version": 3
   },
   "file_extension": ".py",
   "mimetype": "text/x-python",
   "name": "python",
   "nbconvert_exporter": "python",
   "pygments_lexer": "ipython3",
   "version": "3.9.1"
  },
  "vscode": {
   "interpreter": {
    "hash": "8e1635946a236ad0ba235f5bfccd5502c030f416e6b5af01b8e6e42b34db415a"
   }
  }
 },
 "nbformat": 4,
 "nbformat_minor": 5
}
